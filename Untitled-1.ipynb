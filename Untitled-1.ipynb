{
 "cells": [
  {
   "cell_type": "markdown",
   "id": "6ec914d6",
   "metadata": {},
   "source": []
  },
  {
   "cell_type": "markdown",
   "id": "1a934e49",
   "metadata": {},
   "source": [
    "# CLASE 1 "
   ]
  },
  {
   "cell_type": "markdown",
   "id": "b6f75c29",
   "metadata": {},
   "source": [
    "EN ESTA CLASE VAMOS A VER CODIGO RELACIONADO CON PHYTON, VARIABLES Y FUNCIONES\n"
   ]
  },
  {
   "cell_type": "code",
   "execution_count": 1,
   "id": "e90382fd",
   "metadata": {},
   "outputs": [
    {
     "name": "stdout",
     "output_type": "stream",
     "text": [
      "4\n"
     ]
    }
   ],
   "source": [
    "t = 4\n",
    "T = \"4\" \n",
    "e = \"cuatro\"\n",
    "print(T)"
   ]
  },
  {
   "cell_type": "markdown",
   "id": "33126127",
   "metadata": {},
   "source": []
  },
  {
   "cell_type": "markdown",
   "id": "341cfe01",
   "metadata": {},
   "source": []
  }
 ],
 "metadata": {
  "kernelspec": {
   "display_name": "Python 3",
   "language": "python",
   "name": "python3"
  },
  "language_info": {
   "codemirror_mode": {
    "name": "ipython",
    "version": 3
   },
   "file_extension": ".py",
   "mimetype": "text/x-python",
   "name": "python",
   "nbconvert_exporter": "python",
   "pygments_lexer": "ipython3",
   "version": "3.13.3"
  }
 },
 "nbformat": 4,
 "nbformat_minor": 5
}
