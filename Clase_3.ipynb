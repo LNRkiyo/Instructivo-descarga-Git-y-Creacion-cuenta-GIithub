{
  "cells": [
    {
      "cell_type": "code",
      "execution_count": null,
      "metadata": {
        "id": "WVWhe1lWmRHJ"
      },
      "outputs": [],
      "source": []
    },
    {
      "cell_type": "markdown",
      "metadata": {
        "id": "ZyR1_GV4mTOz"
      },
      "source": [
        "### ***Tipos de variables***\n",
        "\n",
        "\n",
        "\n",
        "**Variables Basicas**"
      ]
    },
    {
      "cell_type": "code",
      "execution_count": 4,
      "metadata": {
        "colab": {
          "base_uri": "https://localhost:8080/"
        },
        "id": "IgCcg8zHnSAa",
        "outputId": "7e41a5ce-fa40-45a4-9ed6-6c2408ef6e73"
      },
      "outputs": [
        {
          "name": "stdout",
          "output_type": "stream",
          "text": [
            "el valor de a es: <class 'int'>\n",
            "el valor de b es: 10.5 y su tipo de datos es: <class 'float'>\n",
            "el valor de b es: hola y su tipo de datos es:  <class 'str'>\n"
          ]
        }
      ],
      "source": [
        "#almacenando valor\n",
        "# entrero\n",
        "a = 10\n",
        "\n",
        "#flotante\n",
        "b = 10.5\n",
        "#Cadena\n",
        "c = \"hola\"\n",
        "#boelano\n",
        "d = True\n",
        "\n",
        "\n",
        "\n",
        "print( \"el valor de a es:\", type(a))\n",
        "#formato de impresion f -string\n",
        "print(f\"el valor de b es: {b} y su tipo de datos es: {type(b) }\" )\n",
        "#3. formato de impresion usando format\n",
        "print(\"el valor de b es: {} y su tipo de datos es:  {}\".format(c, type(c)))"
      ]
    },
    {
      "cell_type": "markdown",
      "metadata": {
        "id": "7YsL0W9cnYaU"
      },
      "source": [
        "## **Variables que almacenan multiples valores**\n"
      ]
    },
    {
      "cell_type": "code",
      "execution_count": 3,
      "metadata": {
        "colab": {
          "base_uri": "https://localhost:8080/"
        },
        "id": "rlGItP_VniVI",
        "outputId": "4178e5b6-874b-4fd8-c90c-7f901fb3030b"
      },
      "outputs": [
        {
          "name": "stdout",
          "output_type": "stream",
          "text": [
            "los valores de la lista : [1, 2, 3, 4, 5]\n",
            "el tipo de dato de la lista es: <class 'list'>\n"
          ]
        }
      ],
      "source": [
        "# listas\n",
        "lista = [1, 2, 3, 4, 5]\n",
        "print(f\"los valores de la lista : {lista}\")\n",
        "print(f\"el tipo de dato de la lista es: {type(lista)}\")"
      ]
    },
    {
      "cell_type": "markdown",
      "metadata": {
        "id": "ymiOe3Kno5z6"
      },
      "source": [
        "# Variables que numeran otras listas"
      ]
    },
    {
      "cell_type": "code",
      "execution_count": 2,
      "metadata": {
        "colab": {
          "base_uri": "https://localhost:8080/"
        },
        "id": "5NdFzlpLoQ0f",
        "outputId": "46e4a551-ebcb-4c0f-ed62-ba235a6d8962"
      },
      "outputs": [
        {
          "name": "stdout",
          "output_type": "stream",
          "text": [
            "los valores de la Tupla : [1, 2, 3, 4, 5]\n",
            "el tipo de dato de la Tupla es: <class 'list'>\n"
          ]
        }
      ],
      "source": [
        "# Tuplas\n",
        "A = [1, 2, 3, 4, 5]\n",
        "print(f\"los valores de la Tupla : {A}\")\n",
        "print(f\"el tipo de dato de la Tupla es: {type(A)}\")\n"
      ]
    },
    {
      "cell_type": "code",
      "execution_count": 1,
      "metadata": {
        "colab": {
          "base_uri": "https://localhost:8080/"
        },
        "id": "5WyPBRnkpcC7",
        "outputId": "1bae8a1d-f287-4387-f5bc-46c1b395599d"
      },
      "outputs": [
        {
          "name": "stdout",
          "output_type": "stream",
          "text": [
            "  nombre  edad  altura  peso  deudas    ciudad\n",
            "0   juan    30    1.74    70    True    bogota\n",
            "1  pedro    23    1.56    60   False  medellin\n",
            "2  maria    17    1.99    80    True      cali\n",
            "los valores de la lista : {'nombre': ['juan', 'pedro', 'maria'], 'edad': [30, 23, 17], 'altura': [1.74, 1.56, 1.99], 'peso': [70, 60, 80], 'deudas': [True, False, True], 'ciudad': ['bogota', 'medellin', 'cali']}\n",
            "el tipo de dato de la lista es: <class 'dict'>\n"
          ]
        }
      ],
      "source": [
        "#dataframe\n",
        "#importando libreria pandas\n",
        "import pandas as pd\n",
        "\n",
        "\n",
        "# dICCIONARIOS\n",
        "dicciionario = {\n",
        "    #clave : valor\n",
        "    \"nombre\" : [\"juan\",\"pedro\", \"maria\"],\n",
        "    \"edad\" : [30, 23, 17],\n",
        "    \"altura\" : [1.74, 1.56, 1.99],\n",
        "    \"peso\" : [70, 60, 80],\n",
        "    \"deudas\" : [True, False, True],\n",
        "    \"ciudad\" : [\"bogota\", \"medellin\", \"cali\"]\n",
        "}\n",
        "\n",
        "tabla = pd.DataFrame(dicciionario)\n",
        "print(tabla)\n",
        "\n",
        "print(f\"los valores de la lista : {dicciionario}\")\n",
        "print(f\"el tipo de dato de la lista es: {type(dicciionario)}\")\n"
      ]
    }
  ],
  "metadata": {
    "colab": {
      "provenance": []
    },
    "kernelspec": {
      "display_name": "ENT",
      "language": "python",
      "name": "python3"
    },
    "language_info": {
      "codemirror_mode": {
        "name": "ipython",
        "version": 3
      },
      "file_extension": ".py",
      "mimetype": "text/x-python",
      "name": "python",
      "nbconvert_exporter": "python",
      "pygments_lexer": "ipython3",
      "version": "3.13.3"
    }
  },
  "nbformat": 4,
  "nbformat_minor": 0
}
